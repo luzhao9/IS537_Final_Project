{
 "cells": [
  {
   "cell_type": "markdown",
   "id": "bff543f9-5437-48ec-add6-39ec05c87bd5",
   "metadata": {},
   "source": [
    "## Step 1: Load Raw Datasets\n",
    "\n",
    "We begin by loading two datasets:\n",
    "\n",
    "- **Flashscore Dataset**: Contains the top 100 badminton players, including their world rankings, nationality, total points, and tournament count.\n",
    "- **BWF Super Series Dataset**: Contains match-level data from 2015–2017 Super Series events, including tournament names, competing countries, and match scores.\n",
    "\n",
    "These datasets form the foundation of the analysis and will later be profiled, cleaned, and merged.\n"
   ]
  },
  {
   "cell_type": "code",
   "execution_count": 75,
   "id": "db10cd31-a371-48ea-9114-2270fdbe583c",
   "metadata": {},
   "outputs": [
    {
     "name": "stdout",
     "output_type": "stream",
     "text": [
      "Flashscore Dataset:\n"
     ]
    },
    {
     "data": {
      "text/html": [
       "<div>\n",
       "<style scoped>\n",
       "    .dataframe tbody tr th:only-of-type {\n",
       "        vertical-align: middle;\n",
       "    }\n",
       "\n",
       "    .dataframe tbody tr th {\n",
       "        vertical-align: top;\n",
       "    }\n",
       "\n",
       "    .dataframe thead th {\n",
       "        text-align: right;\n",
       "    }\n",
       "</style>\n",
       "<table border=\"1\" class=\"dataframe\">\n",
       "  <thead>\n",
       "    <tr style=\"text-align: right;\">\n",
       "      <th></th>\n",
       "      <th>Rank</th>\n",
       "      <th>Points</th>\n",
       "      <th>Tournaments</th>\n",
       "      <th>Name</th>\n",
       "      <th>Nationality</th>\n",
       "    </tr>\n",
       "  </thead>\n",
       "  <tbody>\n",
       "    <tr>\n",
       "      <th>0</th>\n",
       "      <td>1</td>\n",
       "      <td>98715</td>\n",
       "      <td>14</td>\n",
       "      <td>Axelsen Viktor</td>\n",
       "      <td>Denmark</td>\n",
       "    </tr>\n",
       "    <tr>\n",
       "      <th>1</th>\n",
       "      <td>2</td>\n",
       "      <td>90984</td>\n",
       "      <td>19</td>\n",
       "      <td>Shi Yu Qi</td>\n",
       "      <td>China</td>\n",
       "    </tr>\n",
       "    <tr>\n",
       "      <th>2</th>\n",
       "      <td>3</td>\n",
       "      <td>85101</td>\n",
       "      <td>20</td>\n",
       "      <td>Ginting Anthony Sinisuka</td>\n",
       "      <td>Indonesia</td>\n",
       "    </tr>\n",
       "    <tr>\n",
       "      <th>3</th>\n",
       "      <td>4</td>\n",
       "      <td>83594</td>\n",
       "      <td>19</td>\n",
       "      <td>Antonsen Anders</td>\n",
       "      <td>Denmark</td>\n",
       "    </tr>\n",
       "    <tr>\n",
       "      <th>4</th>\n",
       "      <td>5</td>\n",
       "      <td>81531</td>\n",
       "      <td>19</td>\n",
       "      <td>Christie Jonatan</td>\n",
       "      <td>Indonesia</td>\n",
       "    </tr>\n",
       "  </tbody>\n",
       "</table>\n",
       "</div>"
      ],
      "text/plain": [
       "   Rank  Points  Tournaments                      Name Nationality\n",
       "0     1   98715           14            Axelsen Viktor     Denmark\n",
       "1     2   90984           19                 Shi Yu Qi       China\n",
       "2     3   85101           20  Ginting Anthony Sinisuka   Indonesia\n",
       "3     4   83594           19           Antonsen Anders     Denmark\n",
       "4     5   81531           19          Christie Jonatan   Indonesia"
      ]
     },
     "metadata": {},
     "output_type": "display_data"
    },
    {
     "name": "stdout",
     "output_type": "stream",
     "text": [
      "\n",
      "BWF Super Series Dataset:\n"
     ]
    },
    {
     "data": {
      "text/html": [
       "<div>\n",
       "<style scoped>\n",
       "    .dataframe tbody tr th:only-of-type {\n",
       "        vertical-align: middle;\n",
       "    }\n",
       "\n",
       "    .dataframe tbody tr th {\n",
       "        vertical-align: top;\n",
       "    }\n",
       "\n",
       "    .dataframe thead th {\n",
       "        text-align: right;\n",
       "    }\n",
       "</style>\n",
       "<table border=\"1\" class=\"dataframe\">\n",
       "  <thead>\n",
       "    <tr style=\"text-align: right;\">\n",
       "      <th></th>\n",
       "      <th>Year</th>\n",
       "      <th>Tournament</th>\n",
       "      <th>Round</th>\n",
       "      <th>Match</th>\n",
       "      <th>Type</th>\n",
       "      <th>Scores</th>\n",
       "    </tr>\n",
       "  </thead>\n",
       "  <tbody>\n",
       "    <tr>\n",
       "      <th>0</th>\n",
       "      <td>2015</td>\n",
       "      <td>All England Open</td>\n",
       "      <td>1</td>\n",
       "      <td>japan-indonesia</td>\n",
       "      <td>XD</td>\n",
       "      <td>0-0;0-0;1-0;2-0;2-1;3-1;4-1;5-1;6-1;7-1;7-2;8-...</td>\n",
       "    </tr>\n",
       "    <tr>\n",
       "      <th>1</th>\n",
       "      <td>2015</td>\n",
       "      <td>All England Open</td>\n",
       "      <td>1</td>\n",
       "      <td>japan-indonesia</td>\n",
       "      <td>XD</td>\n",
       "      <td>0-0;0-0;0-1;1-1;1-2;2-2;3-2;3-3;4-3;4-4;4-5;4-...</td>\n",
       "    </tr>\n",
       "    <tr>\n",
       "      <th>2</th>\n",
       "      <td>2015</td>\n",
       "      <td>All England Open</td>\n",
       "      <td>1</td>\n",
       "      <td>germany-indonesia</td>\n",
       "      <td>WD</td>\n",
       "      <td>0-0;0-0;0-1;0-2;0-3;0-4;0-5;1-5;2-5;3-5;3-6;3-...</td>\n",
       "    </tr>\n",
       "    <tr>\n",
       "      <th>3</th>\n",
       "      <td>2015</td>\n",
       "      <td>All England Open</td>\n",
       "      <td>1</td>\n",
       "      <td>germany-indonesia</td>\n",
       "      <td>WD</td>\n",
       "      <td>0-0;0-0;1-0;2-0;2-1;2-2;3-2;3-3;4-3;4-4;5-4;5-...</td>\n",
       "    </tr>\n",
       "    <tr>\n",
       "      <th>4</th>\n",
       "      <td>2015</td>\n",
       "      <td>All England Open</td>\n",
       "      <td>1</td>\n",
       "      <td>china-england</td>\n",
       "      <td>MD</td>\n",
       "      <td>0-0;0-0;0-1;0-2;1-2;1-3;2-3;3-3;4-3;4-4;5-4;6-...</td>\n",
       "    </tr>\n",
       "  </tbody>\n",
       "</table>\n",
       "</div>"
      ],
      "text/plain": [
       "   Year        Tournament Round              Match Type  \\\n",
       "0  2015  All England Open     1    japan-indonesia   XD   \n",
       "1  2015  All England Open     1    japan-indonesia   XD   \n",
       "2  2015  All England Open     1  germany-indonesia   WD   \n",
       "3  2015  All England Open     1  germany-indonesia   WD   \n",
       "4  2015  All England Open     1      china-england   MD   \n",
       "\n",
       "                                              Scores  \n",
       "0  0-0;0-0;1-0;2-0;2-1;3-1;4-1;5-1;6-1;7-1;7-2;8-...  \n",
       "1  0-0;0-0;0-1;1-1;1-2;2-2;3-2;3-3;4-3;4-4;4-5;4-...  \n",
       "2  0-0;0-0;0-1;0-2;0-3;0-4;0-5;1-5;2-5;3-5;3-6;3-...  \n",
       "3  0-0;0-0;1-0;2-0;2-1;2-2;3-2;3-3;4-3;4-4;5-4;5-...  \n",
       "4  0-0;0-0;0-1;0-2;1-2;1-3;2-3;3-3;4-3;4-4;5-4;6-...  "
      ]
     },
     "metadata": {},
     "output_type": "display_data"
    }
   ],
   "source": [
    "import pandas as pd\n",
    "\n",
    "# Load datasets\n",
    "flashscore_df = pd.read_csv('flashscore.csv')\n",
    "bwf_ss_df = pd.read_csv('bwf-ss-gamedata-2015-2017-new.csv')\n",
    "\n",
    "# Display first few rows of each dataset\n",
    "print(\"Flashscore Dataset:\")\n",
    "display(flashscore_df.head())\n",
    "\n",
    "print(\"\\nBWF Super Series Dataset:\")\n",
    "display(bwf_ss_df.head())\n"
   ]
  },
  {
   "cell_type": "markdown",
   "id": "5c53cd4c-d9cb-433a-8742-cc7b56b37f29",
   "metadata": {},
   "source": [
    "## Step 2: Check for Missing and Duplicate Values\n",
    "\n",
    "We inspect both datasets for missing values and duplicated rows.\n",
    "\n",
    "- Missing values may require deletion or imputation.\n",
    "- Duplicate rows could bias the result, especially in match-level data.\n"
   ]
  },
  {
   "cell_type": "code",
   "execution_count": 77,
   "id": "51025356-92b6-45dc-bf8b-d8ec48ac391b",
   "metadata": {},
   "outputs": [
    {
     "name": "stdout",
     "output_type": "stream",
     "text": [
      "Missing Values:\n",
      "Rank           0\n",
      "Points         0\n",
      "Tournaments    0\n",
      "Name           0\n",
      "Nationality    0\n",
      "dtype: int64\n",
      "Year          0\n",
      "Tournament    0\n",
      "Round         0\n",
      "Match         0\n",
      "Type          0\n",
      "Scores        0\n",
      "dtype: int64\n",
      "\n",
      "Duplicate Values:\n",
      "Flashscore Dataset: 0 duplicates\n",
      "BWF Super Series Dataset: 7 duplicates\n"
     ]
    }
   ],
   "source": [
    "# Check for missing values\n",
    "print(\"Missing Values:\")\n",
    "print(flashscore_df.isnull().sum())\n",
    "print(bwf_ss_df.isnull().sum())\n",
    "\n",
    "# Check for duplicate rows\n",
    "print(\"\\nDuplicate Values:\")\n",
    "print(f\"Flashscore Dataset: {flashscore_df.duplicated().sum()} duplicates\")\n",
    "print(f\"BWF Super Series Dataset: {bwf_ss_df.duplicated().sum()} duplicates\")\n",
    "\n"
   ]
  },
  {
   "cell_type": "markdown",
   "id": "da214930-fd62-4af5-9f2f-b0f23ff73771",
   "metadata": {},
   "source": [
    "## Step 2.5: Data Profiling Summary Statistics\n",
    "\n",
    "We examine the basic statistical summary of key numeric fields in both datasets.  \n",
    "This includes `Points`, `Tournaments`, and any numeric game-level attributes.\n"
   ]
  },
  {
   "cell_type": "code",
   "execution_count": 80,
   "id": "b6e96b8c-d990-4fd2-aec5-f6899a6f367d",
   "metadata": {},
   "outputs": [
    {
     "name": "stdout",
     "output_type": "stream",
     "text": [
      "Flashscore Dataset Summary:\n"
     ]
    },
    {
     "data": {
      "text/html": [
       "<div>\n",
       "<style scoped>\n",
       "    .dataframe tbody tr th:only-of-type {\n",
       "        vertical-align: middle;\n",
       "    }\n",
       "\n",
       "    .dataframe tbody tr th {\n",
       "        vertical-align: top;\n",
       "    }\n",
       "\n",
       "    .dataframe thead th {\n",
       "        text-align: right;\n",
       "    }\n",
       "</style>\n",
       "<table border=\"1\" class=\"dataframe\">\n",
       "  <thead>\n",
       "    <tr style=\"text-align: right;\">\n",
       "      <th></th>\n",
       "      <th>Rank</th>\n",
       "      <th>Points</th>\n",
       "      <th>Tournaments</th>\n",
       "    </tr>\n",
       "  </thead>\n",
       "  <tbody>\n",
       "    <tr>\n",
       "      <th>count</th>\n",
       "      <td>100.000000</td>\n",
       "      <td>100.000000</td>\n",
       "      <td>100.000000</td>\n",
       "    </tr>\n",
       "    <tr>\n",
       "      <th>mean</th>\n",
       "      <td>50.500000</td>\n",
       "      <td>38697.760000</td>\n",
       "      <td>19.500000</td>\n",
       "    </tr>\n",
       "    <tr>\n",
       "      <th>std</th>\n",
       "      <td>29.011492</td>\n",
       "      <td>19826.411848</td>\n",
       "      <td>5.151248</td>\n",
       "    </tr>\n",
       "    <tr>\n",
       "      <th>min</th>\n",
       "      <td>1.000000</td>\n",
       "      <td>18430.000000</td>\n",
       "      <td>8.000000</td>\n",
       "    </tr>\n",
       "    <tr>\n",
       "      <th>25%</th>\n",
       "      <td>25.750000</td>\n",
       "      <td>22754.000000</td>\n",
       "      <td>16.000000</td>\n",
       "    </tr>\n",
       "    <tr>\n",
       "      <th>50%</th>\n",
       "      <td>50.500000</td>\n",
       "      <td>32638.500000</td>\n",
       "      <td>20.000000</td>\n",
       "    </tr>\n",
       "    <tr>\n",
       "      <th>75%</th>\n",
       "      <td>75.250000</td>\n",
       "      <td>50407.750000</td>\n",
       "      <td>23.000000</td>\n",
       "    </tr>\n",
       "    <tr>\n",
       "      <th>max</th>\n",
       "      <td>100.000000</td>\n",
       "      <td>98715.000000</td>\n",
       "      <td>31.000000</td>\n",
       "    </tr>\n",
       "  </tbody>\n",
       "</table>\n",
       "</div>"
      ],
      "text/plain": [
       "             Rank        Points  Tournaments\n",
       "count  100.000000    100.000000   100.000000\n",
       "mean    50.500000  38697.760000    19.500000\n",
       "std     29.011492  19826.411848     5.151248\n",
       "min      1.000000  18430.000000     8.000000\n",
       "25%     25.750000  22754.000000    16.000000\n",
       "50%     50.500000  32638.500000    20.000000\n",
       "75%     75.250000  50407.750000    23.000000\n",
       "max    100.000000  98715.000000    31.000000"
      ]
     },
     "metadata": {},
     "output_type": "display_data"
    },
    {
     "name": "stdout",
     "output_type": "stream",
     "text": [
      "\n",
      "BWF Super Series Dataset Summary:\n"
     ]
    },
    {
     "data": {
      "text/html": [
       "<div>\n",
       "<style scoped>\n",
       "    .dataframe tbody tr th:only-of-type {\n",
       "        vertical-align: middle;\n",
       "    }\n",
       "\n",
       "    .dataframe tbody tr th {\n",
       "        vertical-align: top;\n",
       "    }\n",
       "\n",
       "    .dataframe thead th {\n",
       "        text-align: right;\n",
       "    }\n",
       "</style>\n",
       "<table border=\"1\" class=\"dataframe\">\n",
       "  <thead>\n",
       "    <tr style=\"text-align: right;\">\n",
       "      <th></th>\n",
       "      <th>Year</th>\n",
       "    </tr>\n",
       "  </thead>\n",
       "  <tbody>\n",
       "    <tr>\n",
       "      <th>count</th>\n",
       "      <td>11872.000000</td>\n",
       "    </tr>\n",
       "    <tr>\n",
       "      <th>mean</th>\n",
       "      <td>2015.994441</td>\n",
       "    </tr>\n",
       "    <tr>\n",
       "      <th>std</th>\n",
       "      <td>0.823975</td>\n",
       "    </tr>\n",
       "    <tr>\n",
       "      <th>min</th>\n",
       "      <td>2015.000000</td>\n",
       "    </tr>\n",
       "    <tr>\n",
       "      <th>25%</th>\n",
       "      <td>2015.000000</td>\n",
       "    </tr>\n",
       "    <tr>\n",
       "      <th>50%</th>\n",
       "      <td>2016.000000</td>\n",
       "    </tr>\n",
       "    <tr>\n",
       "      <th>75%</th>\n",
       "      <td>2017.000000</td>\n",
       "    </tr>\n",
       "    <tr>\n",
       "      <th>max</th>\n",
       "      <td>2017.000000</td>\n",
       "    </tr>\n",
       "  </tbody>\n",
       "</table>\n",
       "</div>"
      ],
      "text/plain": [
       "               Year\n",
       "count  11872.000000\n",
       "mean    2015.994441\n",
       "std        0.823975\n",
       "min     2015.000000\n",
       "25%     2015.000000\n",
       "50%     2016.000000\n",
       "75%     2017.000000\n",
       "max     2017.000000"
      ]
     },
     "metadata": {},
     "output_type": "display_data"
    }
   ],
   "source": [
    "print(\"Flashscore Dataset Summary:\")\n",
    "display(flashscore_df.describe())\n",
    "\n",
    "print(\"\\nBWF Super Series Dataset Summary:\")\n",
    "display(bwf_ss_df.describe())\n"
   ]
  },
  {
   "cell_type": "markdown",
   "id": "4876516a-0343-4bb9-ba74-09e7a33a8d0d",
   "metadata": {},
   "source": [
    "## Step 3: Remove Duplicates\n",
    "\n",
    "We remove duplicate rows from both datasets to ensure integrity and prevent overrepresentation of certain records.\n"
   ]
  },
  {
   "cell_type": "code",
   "execution_count": 84,
   "id": "b53fef2c-019e-48b6-96ee-de7b718ec8ec",
   "metadata": {},
   "outputs": [],
   "source": [
    "# Remove duplicate rows\n",
    "flashscore_df = flashscore_df.drop_duplicates()\n",
    "bwf_ss_df = bwf_ss_df.drop_duplicates()\n"
   ]
  },
  {
   "cell_type": "markdown",
   "id": "e2bb439f-70a8-4717-814b-ee97fb1a53e9",
   "metadata": {},
   "source": [
    "## Step 4: Split Match Column into Home and Away Countries\n",
    "\n",
    "The 'Match' column contains a string like `china-indonesia`.  \n",
    "We split it into separate `Home` and `Away` columns to enable per-country win rate calculation.\n"
   ]
  },
  {
   "cell_type": "code",
   "execution_count": 92,
   "id": "1e17fc80-54ef-432f-8a18-aacfec94a362",
   "metadata": {},
   "outputs": [
    {
     "data": {
      "text/html": [
       "<div>\n",
       "<style scoped>\n",
       "    .dataframe tbody tr th:only-of-type {\n",
       "        vertical-align: middle;\n",
       "    }\n",
       "\n",
       "    .dataframe tbody tr th {\n",
       "        vertical-align: top;\n",
       "    }\n",
       "\n",
       "    .dataframe thead th {\n",
       "        text-align: right;\n",
       "    }\n",
       "</style>\n",
       "<table border=\"1\" class=\"dataframe\">\n",
       "  <thead>\n",
       "    <tr style=\"text-align: right;\">\n",
       "      <th></th>\n",
       "      <th>Year</th>\n",
       "      <th>Tournament</th>\n",
       "      <th>Round</th>\n",
       "      <th>Match</th>\n",
       "      <th>Type</th>\n",
       "      <th>Scores</th>\n",
       "      <th>Home</th>\n",
       "      <th>Away</th>\n",
       "    </tr>\n",
       "  </thead>\n",
       "  <tbody>\n",
       "    <tr>\n",
       "      <th>0</th>\n",
       "      <td>2015</td>\n",
       "      <td>All England Open</td>\n",
       "      <td>1</td>\n",
       "      <td>japan-indonesia</td>\n",
       "      <td>XD</td>\n",
       "      <td>0-0;0-0;1-0;2-0;2-1;3-1;4-1;5-1;6-1;7-1;7-2;8-...</td>\n",
       "      <td>japan</td>\n",
       "      <td>indonesia</td>\n",
       "    </tr>\n",
       "    <tr>\n",
       "      <th>1</th>\n",
       "      <td>2015</td>\n",
       "      <td>All England Open</td>\n",
       "      <td>1</td>\n",
       "      <td>japan-indonesia</td>\n",
       "      <td>XD</td>\n",
       "      <td>0-0;0-0;0-1;1-1;1-2;2-2;3-2;3-3;4-3;4-4;4-5;4-...</td>\n",
       "      <td>japan</td>\n",
       "      <td>indonesia</td>\n",
       "    </tr>\n",
       "    <tr>\n",
       "      <th>2</th>\n",
       "      <td>2015</td>\n",
       "      <td>All England Open</td>\n",
       "      <td>1</td>\n",
       "      <td>germany-indonesia</td>\n",
       "      <td>WD</td>\n",
       "      <td>0-0;0-0;0-1;0-2;0-3;0-4;0-5;1-5;2-5;3-5;3-6;3-...</td>\n",
       "      <td>germany</td>\n",
       "      <td>indonesia</td>\n",
       "    </tr>\n",
       "    <tr>\n",
       "      <th>3</th>\n",
       "      <td>2015</td>\n",
       "      <td>All England Open</td>\n",
       "      <td>1</td>\n",
       "      <td>germany-indonesia</td>\n",
       "      <td>WD</td>\n",
       "      <td>0-0;0-0;1-0;2-0;2-1;2-2;3-2;3-3;4-3;4-4;5-4;5-...</td>\n",
       "      <td>germany</td>\n",
       "      <td>indonesia</td>\n",
       "    </tr>\n",
       "    <tr>\n",
       "      <th>4</th>\n",
       "      <td>2015</td>\n",
       "      <td>All England Open</td>\n",
       "      <td>1</td>\n",
       "      <td>china-england</td>\n",
       "      <td>MD</td>\n",
       "      <td>0-0;0-0;0-1;0-2;1-2;1-3;2-3;3-3;4-3;4-4;5-4;6-...</td>\n",
       "      <td>china</td>\n",
       "      <td>england</td>\n",
       "    </tr>\n",
       "  </tbody>\n",
       "</table>\n",
       "</div>"
      ],
      "text/plain": [
       "   Year        Tournament Round              Match Type  \\\n",
       "0  2015  All England Open     1    japan-indonesia   XD   \n",
       "1  2015  All England Open     1    japan-indonesia   XD   \n",
       "2  2015  All England Open     1  germany-indonesia   WD   \n",
       "3  2015  All England Open     1  germany-indonesia   WD   \n",
       "4  2015  All England Open     1      china-england   MD   \n",
       "\n",
       "                                              Scores     Home       Away  \n",
       "0  0-0;0-0;1-0;2-0;2-1;3-1;4-1;5-1;6-1;7-1;7-2;8-...    japan  indonesia  \n",
       "1  0-0;0-0;0-1;1-1;1-2;2-2;3-2;3-3;4-3;4-4;4-5;4-...    japan  indonesia  \n",
       "2  0-0;0-0;0-1;0-2;0-3;0-4;0-5;1-5;2-5;3-5;3-6;3-...  germany  indonesia  \n",
       "3  0-0;0-0;1-0;2-0;2-1;2-2;3-2;3-3;4-3;4-4;5-4;5-...  germany  indonesia  \n",
       "4  0-0;0-0;0-1;0-2;1-2;1-3;2-3;3-3;4-3;4-4;5-4;6-...    china    england  "
      ]
     },
     "metadata": {},
     "output_type": "display_data"
    }
   ],
   "source": [
    "# Split Match column into Home and Away columns\n",
    "bwf_ss_df[['Home', 'Away']] = bwf_ss_df['Match'].str.split('-', expand=True)\n",
    "display(bwf_ss_df.head())\n"
   ]
  },
  {
   "cell_type": "markdown",
   "id": "10874ca1-304a-4f45-aacd-2f42691d8774",
   "metadata": {},
   "source": [
    "## Step 5: Parse Match Scores and Calculate Home/Away Scores\n",
    "\n",
    "We define a function `parse_scores` to extract set-level results from the match score strings.  \n",
    "Each match's home and away scores are then calculated and added as new columns.\n"
   ]
  },
  {
   "cell_type": "code",
   "execution_count": 95,
   "id": "d6687bf9-090b-4feb-a48e-de336b5d3227",
   "metadata": {},
   "outputs": [
    {
     "data": {
      "text/html": [
       "<div>\n",
       "<style scoped>\n",
       "    .dataframe tbody tr th:only-of-type {\n",
       "        vertical-align: middle;\n",
       "    }\n",
       "\n",
       "    .dataframe tbody tr th {\n",
       "        vertical-align: top;\n",
       "    }\n",
       "\n",
       "    .dataframe thead th {\n",
       "        text-align: right;\n",
       "    }\n",
       "</style>\n",
       "<table border=\"1\" class=\"dataframe\">\n",
       "  <thead>\n",
       "    <tr style=\"text-align: right;\">\n",
       "      <th></th>\n",
       "      <th>Year</th>\n",
       "      <th>Tournament</th>\n",
       "      <th>Round</th>\n",
       "      <th>Match</th>\n",
       "      <th>Type</th>\n",
       "      <th>Scores</th>\n",
       "      <th>Home</th>\n",
       "      <th>Away</th>\n",
       "      <th>Home_Score</th>\n",
       "      <th>Away_Score</th>\n",
       "    </tr>\n",
       "  </thead>\n",
       "  <tbody>\n",
       "    <tr>\n",
       "      <th>0</th>\n",
       "      <td>2015</td>\n",
       "      <td>All England Open</td>\n",
       "      <td>1</td>\n",
       "      <td>japan-indonesia</td>\n",
       "      <td>XD</td>\n",
       "      <td>0-0;0-0;1-0;2-0;2-1;3-1;4-1;5-1;6-1;7-1;7-2;8-...</td>\n",
       "      <td>japan</td>\n",
       "      <td>indonesia</td>\n",
       "      <td>39</td>\n",
       "      <td>3</td>\n",
       "    </tr>\n",
       "    <tr>\n",
       "      <th>1</th>\n",
       "      <td>2015</td>\n",
       "      <td>All England Open</td>\n",
       "      <td>1</td>\n",
       "      <td>japan-indonesia</td>\n",
       "      <td>XD</td>\n",
       "      <td>0-0;0-0;0-1;1-1;1-2;2-2;3-2;3-3;4-3;4-4;4-5;4-...</td>\n",
       "      <td>japan</td>\n",
       "      <td>indonesia</td>\n",
       "      <td>23</td>\n",
       "      <td>13</td>\n",
       "    </tr>\n",
       "    <tr>\n",
       "      <th>2</th>\n",
       "      <td>2015</td>\n",
       "      <td>All England Open</td>\n",
       "      <td>1</td>\n",
       "      <td>germany-indonesia</td>\n",
       "      <td>WD</td>\n",
       "      <td>0-0;0-0;0-1;0-2;0-3;0-4;0-5;1-5;2-5;3-5;3-6;3-...</td>\n",
       "      <td>germany</td>\n",
       "      <td>indonesia</td>\n",
       "      <td>4</td>\n",
       "      <td>37</td>\n",
       "    </tr>\n",
       "    <tr>\n",
       "      <th>3</th>\n",
       "      <td>2015</td>\n",
       "      <td>All England Open</td>\n",
       "      <td>1</td>\n",
       "      <td>germany-indonesia</td>\n",
       "      <td>WD</td>\n",
       "      <td>0-0;0-0;1-0;2-0;2-1;2-2;3-2;3-3;4-3;4-4;5-4;5-...</td>\n",
       "      <td>germany</td>\n",
       "      <td>indonesia</td>\n",
       "      <td>27</td>\n",
       "      <td>13</td>\n",
       "    </tr>\n",
       "    <tr>\n",
       "      <th>4</th>\n",
       "      <td>2015</td>\n",
       "      <td>All England Open</td>\n",
       "      <td>1</td>\n",
       "      <td>china-england</td>\n",
       "      <td>MD</td>\n",
       "      <td>0-0;0-0;0-1;0-2;1-2;1-3;2-3;3-3;4-3;4-4;5-4;6-...</td>\n",
       "      <td>china</td>\n",
       "      <td>england</td>\n",
       "      <td>25</td>\n",
       "      <td>9</td>\n",
       "    </tr>\n",
       "  </tbody>\n",
       "</table>\n",
       "</div>"
      ],
      "text/plain": [
       "   Year        Tournament Round              Match Type  \\\n",
       "0  2015  All England Open     1    japan-indonesia   XD   \n",
       "1  2015  All England Open     1    japan-indonesia   XD   \n",
       "2  2015  All England Open     1  germany-indonesia   WD   \n",
       "3  2015  All England Open     1  germany-indonesia   WD   \n",
       "4  2015  All England Open     1      china-england   MD   \n",
       "\n",
       "                                              Scores     Home       Away  \\\n",
       "0  0-0;0-0;1-0;2-0;2-1;3-1;4-1;5-1;6-1;7-1;7-2;8-...    japan  indonesia   \n",
       "1  0-0;0-0;0-1;1-1;1-2;2-2;3-2;3-3;4-3;4-4;4-5;4-...    japan  indonesia   \n",
       "2  0-0;0-0;0-1;0-2;0-3;0-4;0-5;1-5;2-5;3-5;3-6;3-...  germany  indonesia   \n",
       "3  0-0;0-0;1-0;2-0;2-1;2-2;3-2;3-3;4-3;4-4;5-4;5-...  germany  indonesia   \n",
       "4  0-0;0-0;0-1;0-2;1-2;1-3;2-3;3-3;4-3;4-4;5-4;6-...    china    england   \n",
       "\n",
       "   Home_Score  Away_Score  \n",
       "0          39           3  \n",
       "1          23          13  \n",
       "2           4          37  \n",
       "3          27          13  \n",
       "4          25           9  "
      ]
     },
     "metadata": {},
     "output_type": "display_data"
    }
   ],
   "source": [
    "# Function to parse scores and calculate match results\n",
    "def parse_scores(score_str):\n",
    "    sets = score_str.split(\";\")\n",
    "    home_score = 0\n",
    "    away_score = 0\n",
    "    for set_score in sets:\n",
    "        if \"-\" in set_score:\n",
    "            home, away = map(int, set_score.split(\"-\"))\n",
    "            if home > away:\n",
    "                home_score += 1\n",
    "            else:\n",
    "                away_score += 1\n",
    "    return home_score, away_score\n",
    "\n",
    "# Apply the parsing function\n",
    "bwf_ss_df[['Home_Score', 'Away_Score']] = bwf_ss_df['Scores'].apply(lambda x: pd.Series(parse_scores(x)))\n",
    "display(bwf_ss_df.head())\n"
   ]
  },
  {
   "cell_type": "markdown",
   "id": "268feb12-5044-4f20-a22e-56bb4f0156a7",
   "metadata": {},
   "source": [
    "## Step 6: Calculate Win Rate by Country\n",
    "\n",
    "We use the parsed home/away scores to determine match outcomes and calculate  \n",
    "the win rate of each country across all matches.\n",
    "\n",
    "- `Home_Win` = 1 if Home Score > Away Score  \n",
    "- `Away_Win` = 1 if Away Score > Home Score  \n",
    "- `Win Rate` = Total Wins / Total Matches\n",
    "\n",
    "Note: We calculate total wins and match counts for each country (as Home and Away),  \n",
    "and compute Win Rate (%) as: (Wins / Total Matches) * 100\n"
   ]
  },
  {
   "cell_type": "code",
   "execution_count": 99,
   "id": "68a9b7ca-3f21-4c0f-9055-57e27d3ff3cc",
   "metadata": {},
   "outputs": [
    {
     "data": {
      "text/html": [
       "<div>\n",
       "<style scoped>\n",
       "    .dataframe tbody tr th:only-of-type {\n",
       "        vertical-align: middle;\n",
       "    }\n",
       "\n",
       "    .dataframe tbody tr th {\n",
       "        vertical-align: top;\n",
       "    }\n",
       "\n",
       "    .dataframe thead th {\n",
       "        text-align: right;\n",
       "    }\n",
       "</style>\n",
       "<table border=\"1\" class=\"dataframe\">\n",
       "  <thead>\n",
       "    <tr style=\"text-align: right;\">\n",
       "      <th></th>\n",
       "      <th>Nationality</th>\n",
       "      <th>Win_Rate</th>\n",
       "    </tr>\n",
       "  </thead>\n",
       "  <tbody>\n",
       "    <tr>\n",
       "      <th>0</th>\n",
       "      <td>australia</td>\n",
       "      <td>20.312500</td>\n",
       "    </tr>\n",
       "    <tr>\n",
       "      <th>1</th>\n",
       "      <td>austria</td>\n",
       "      <td>0.000000</td>\n",
       "    </tr>\n",
       "    <tr>\n",
       "      <th>2</th>\n",
       "      <td>belgium</td>\n",
       "      <td>0.000000</td>\n",
       "    </tr>\n",
       "    <tr>\n",
       "      <th>3</th>\n",
       "      <td>brazil</td>\n",
       "      <td>40.000000</td>\n",
       "    </tr>\n",
       "    <tr>\n",
       "      <th>4</th>\n",
       "      <td>bulgaria</td>\n",
       "      <td>33.333333</td>\n",
       "    </tr>\n",
       "  </tbody>\n",
       "</table>\n",
       "</div>"
      ],
      "text/plain": [
       "  Nationality   Win_Rate\n",
       "0   australia  20.312500\n",
       "1     austria   0.000000\n",
       "2     belgium   0.000000\n",
       "3      brazil  40.000000\n",
       "4    bulgaria  33.333333"
      ]
     },
     "metadata": {},
     "output_type": "display_data"
    }
   ],
   "source": [
    "# Calculate home and away wins\n",
    "bwf_ss_df['Home_Win'] = (bwf_ss_df['Home_Score'] > bwf_ss_df['Away_Score']).astype(int)\n",
    "bwf_ss_df['Away_Win'] = (bwf_ss_df['Away_Score'] > bwf_ss_df['Home_Score']).astype(int)\n",
    "\n",
    "# Calculate total win rates by country\n",
    "win_counts = bwf_ss_df.groupby('Home').sum()['Home_Win'] + bwf_ss_df.groupby('Away').sum()['Away_Win']\n",
    "match_counts = bwf_ss_df['Home'].value_counts() + bwf_ss_df['Away'].value_counts()\n",
    "win_rate = (win_counts / match_counts).fillna(0) * 100\n",
    "\n",
    "# Create a DataFrame for win rates\n",
    "win_rate_df = win_rate.reset_index()\n",
    "win_rate_df.columns = ['Nationality', 'Win_Rate']\n",
    "display(win_rate_df.head())\n"
   ]
  },
  {
   "cell_type": "markdown",
   "id": "fe168df2-0a65-44e6-be81-7097bd7be77c",
   "metadata": {},
   "source": [
    "## Step 7: Merge Win Rate with Flashscore Rankings\n",
    "\n",
    "We join the win rate table (aggregated by nationality) with player ranking info  \n",
    "from Flashscore using the 'Nationality' column.\n",
    "\n",
    "⚠️ Limitation: Since nationality-level aggregation is coarse, this mapping assumes  \n",
    "the win rate represents overall national strength, not individual players.\n"
   ]
  },
  {
   "cell_type": "code",
   "execution_count": 101,
   "id": "755c758b-206b-4b9a-af4f-6c3be095483d",
   "metadata": {},
   "outputs": [
    {
     "data": {
      "text/html": [
       "<div>\n",
       "<style scoped>\n",
       "    .dataframe tbody tr th:only-of-type {\n",
       "        vertical-align: middle;\n",
       "    }\n",
       "\n",
       "    .dataframe tbody tr th {\n",
       "        vertical-align: top;\n",
       "    }\n",
       "\n",
       "    .dataframe thead th {\n",
       "        text-align: right;\n",
       "    }\n",
       "</style>\n",
       "<table border=\"1\" class=\"dataframe\">\n",
       "  <thead>\n",
       "    <tr style=\"text-align: right;\">\n",
       "      <th></th>\n",
       "      <th>Rank</th>\n",
       "      <th>Points</th>\n",
       "      <th>Tournaments</th>\n",
       "      <th>Name</th>\n",
       "      <th>Nationality</th>\n",
       "      <th>Win_Rate</th>\n",
       "    </tr>\n",
       "  </thead>\n",
       "  <tbody>\n",
       "  </tbody>\n",
       "</table>\n",
       "</div>"
      ],
      "text/plain": [
       "Empty DataFrame\n",
       "Columns: [Rank, Points, Tournaments, Name, Nationality, Win_Rate]\n",
       "Index: []"
      ]
     },
     "metadata": {},
     "output_type": "display_data"
    }
   ],
   "source": [
    "# Merge datasets on the Nationality column\n",
    "merged_df = pd.merge(flashscore_df, win_rate_df, on='Nationality', how='inner')\n",
    "display(merged_df.head())\n"
   ]
  },
  {
   "cell_type": "markdown",
   "id": "64dfc403-abc2-4a7d-9a45-2cdf31b1e17c",
   "metadata": {},
   "source": [
    "## Step 8: Convert Rank and Win Rate to Numeric\n",
    "\n",
    "We ensure the columns used for correlation and visualization are in numeric format.\n"
   ]
  },
  {
   "cell_type": "code",
   "execution_count": 103,
   "id": "322a0b00-e113-42a8-8597-a02973e8ac02",
   "metadata": {},
   "outputs": [
    {
     "name": "stdout",
     "output_type": "stream",
     "text": [
      "Data types after conversion:\n",
      "Rank             int64\n",
      "Points           int64\n",
      "Tournaments      int64\n",
      "Name            object\n",
      "Nationality     object\n",
      "Win_Rate       float64\n",
      "dtype: object\n"
     ]
    }
   ],
   "source": [
    "# Ensure Rank and Win_Rate are numeric\n",
    "merged_df['Rank'] = pd.to_numeric(merged_df['Rank'], errors='coerce')\n",
    "merged_df['Win_Rate'] = pd.to_numeric(merged_df['Win_Rate'], errors='coerce')\n",
    "\n",
    "# Check data types\n",
    "print(\"Data types after conversion:\")\n",
    "print(merged_df.dtypes)\n",
    "\n"
   ]
  },
  {
   "cell_type": "markdown",
   "id": "90694d77-5aa6-48c3-b74e-52c47aa3463e",
   "metadata": {},
   "source": [
    "## Step 9: Final Cleaning and Visualization\n",
    "\n",
    "In this step, we:\n",
    "- Drop any rows with missing or invalid (zero) values in `Rank` and `Win_Rate`\n",
    "- Convert both columns to numeric for valid correlation analysis\n",
    "- Calculate the Pearson correlation between `Rank` and `Win_Rate`\n",
    "- Display a scatter plot showing the relationship after cleaning\n",
    "\n",
    "We found a slight negative correlation (r = -0.240918), suggesting that higher-ranked players tend to have higher win rates.\n"
   ]
  },
  {
   "cell_type": "code",
   "execution_count": 105,
   "id": "a89d9eea-d41f-4ed3-8426-f634d8dfa5b0",
   "metadata": {},
   "outputs": [
    {
     "name": "stdout",
     "output_type": "stream",
     "text": [
      "\n",
      "Missing values in merged_df:\n",
      "Rank           0.0\n",
      "Points         0.0\n",
      "Tournaments    0.0\n",
      "Name           0.0\n",
      "Nationality    0.0\n",
      "Win_Rate       0.0\n",
      "dtype: float64\n",
      "\n",
      "Zero values in Win_Rate:\n",
      "0\n"
     ]
    }
   ],
   "source": [
    "# Check for missing values\n",
    "print(\"\\nMissing values in merged_df:\")\n",
    "print(merged_df.isnull().sum())\n",
    "\n",
    "# Drop rows with missing values in Rank or Win_Rate\n",
    "merged_df = merged_df.dropna(subset=['Rank', 'Win_Rate'])\n",
    "\n",
    "# Check if there are any zero values in Win_Rate\n",
    "print(\"\\nZero values in Win_Rate:\")\n",
    "print((merged_df['Win_Rate'] == 0).sum())\n",
    "\n",
    "# Filter out zero values if needed\n",
    "merged_df = merged_df[merged_df['Win_Rate'] > 0]\n",
    "\n"
   ]
  },
  {
   "cell_type": "markdown",
   "id": "25680750-7042-4dcc-8a45-62ccc2b06aaf",
   "metadata": {},
   "source": [
    "### Step 10: Final Cleaning and Visualization\n",
    "\n",
    "In this step, we:\n",
    "- Ensure both `Rank` and `Win_Rate` are numeric.\n",
    "- Drop any rows with missing or invalid (`<=0`) values in these columns.\n",
    "- Recalculate the correlation between Rank and Win Rate.\n",
    "- Display a scatter plot showing the relationship after cleaning.\n",
    "\n",
    "We found a slight negative correlation (e.g., -0.24), suggesting that higher-ranked players tend to have higher win rates.\n"
   ]
  },
  {
   "cell_type": "code",
   "execution_count": 110,
   "id": "ff02a6cd-c100-42ff-824c-bd13bc864376",
   "metadata": {},
   "outputs": [
    {
     "name": "stdout",
     "output_type": "stream",
     "text": [
      " Correlation between Rank and Win Rate:\n",
      "          Rank  Win_Rate\n",
      "Rank       NaN       NaN\n",
      "Win_Rate   NaN       NaN\n"
     ]
    }
   ],
   "source": [
    "# Recalculate correlation\n",
    "# Ensure Rank and Win_Rate are numeric\n",
    "merged_df['Rank'] = pd.to_numeric(merged_df['Rank'], errors='coerce')\n",
    "merged_df['Win_Rate'] = pd.to_numeric(merged_df['Win_Rate'], errors='coerce')\n",
    "\n",
    "# Drop rows with missing or zero values in Rank or Win_Rate\n",
    "merged_df = merged_df.dropna(subset=['Rank', 'Win_Rate'])\n",
    "merged_df = merged_df[merged_df['Win_Rate'] > 0]\n",
    "\n",
    "# Recalculate correlation\n",
    "correlation = merged_df[['Rank', 'Win_Rate']].corr()\n",
    "print(\" Correlation between Rank and Win Rate:\")\n",
    "print(correlation)\n",
    "\n"
   ]
  },
  {
   "cell_type": "markdown",
   "id": "fe03cd4f-0aa4-4c03-af8e-82fe7329536b",
   "metadata": {},
   "source": [
    "### Step 10 (continued): Display Final Cleaned Data and Plot\n",
    "\n",
    "We display the first few valid rows of the cleaned dataset, followed by a scatter plot that illustrates the relationship between player Rank and Win Rate.\n",
    "\n",
    "This plot allows us to visually confirm the correlation between lower ranks and higher win rates after cleaning.\n"
   ]
  },
  {
   "cell_type": "code",
   "execution_count": 185,
   "id": "6819b0ff-ac64-4966-b329-f00c191f47cd",
   "metadata": {},
   "outputs": [
    {
     "name": "stdout",
     "output_type": "stream",
     "text": [
      "\n",
      " Number of valid rows after cleaning: 77\n"
     ]
    },
    {
     "data": {
      "text/html": [
       "<div>\n",
       "<style scoped>\n",
       "    .dataframe tbody tr th:only-of-type {\n",
       "        vertical-align: middle;\n",
       "    }\n",
       "\n",
       "    .dataframe tbody tr th {\n",
       "        vertical-align: top;\n",
       "    }\n",
       "\n",
       "    .dataframe thead th {\n",
       "        text-align: right;\n",
       "    }\n",
       "</style>\n",
       "<table border=\"1\" class=\"dataframe\">\n",
       "  <thead>\n",
       "    <tr style=\"text-align: right;\">\n",
       "      <th></th>\n",
       "      <th>Rank</th>\n",
       "      <th>Win_Rate</th>\n",
       "    </tr>\n",
       "  </thead>\n",
       "  <tbody>\n",
       "    <tr>\n",
       "      <th>0</th>\n",
       "      <td>1</td>\n",
       "      <td>53.830334</td>\n",
       "    </tr>\n",
       "    <tr>\n",
       "      <th>1</th>\n",
       "      <td>4</td>\n",
       "      <td>53.830334</td>\n",
       "    </tr>\n",
       "    <tr>\n",
       "      <th>2</th>\n",
       "      <td>28</td>\n",
       "      <td>53.830334</td>\n",
       "    </tr>\n",
       "    <tr>\n",
       "      <th>3</th>\n",
       "      <td>35</td>\n",
       "      <td>53.830334</td>\n",
       "    </tr>\n",
       "    <tr>\n",
       "      <th>4</th>\n",
       "      <td>53</td>\n",
       "      <td>53.830334</td>\n",
       "    </tr>\n",
       "  </tbody>\n",
       "</table>\n",
       "</div>"
      ],
      "text/plain": [
       "   Rank   Win_Rate\n",
       "0     1  53.830334\n",
       "1     4  53.830334\n",
       "2    28  53.830334\n",
       "3    35  53.830334\n",
       "4    53  53.830334"
      ]
     },
     "metadata": {},
     "output_type": "display_data"
    },
    {
     "data": {
      "image/png": "[encoded data removed]",
      "text/plain": [
       "<Figure size 640x480 with 1 Axes>"
      ]
     },
     "metadata": {},
     "output_type": "display_data"
    }
   ],
   "source": [
    "# Show sample rows and row count\n",
    "print(f\"\\n Number of valid rows after cleaning: {len(merged_df)}\")\n",
    "display(merged_df[['Rank', 'Win_Rate']].head())\n",
    "\n",
    "# Scatter plot to visualize the relationship\n",
    "import matplotlib.pyplot as plt\n",
    "\n",
    "plt.scatter(merged_df['Rank'], merged_df['Win_Rate'])\n",
    "plt.xlabel('Rank')\n",
    "plt.ylabel('Win Rate (%)')\n",
    "plt.title('Relationship between Rank and Win Rate (Cleaned)')\n",
    "plt.grid(True)\n",
    "plt.show()\n"
   ]
  },
  {
   "cell_type": "markdown",
   "id": "4782d387-3534-4fd4-9e6d-f85d7a3062ca",
   "metadata": {},
   "source": [
    "### Step 10(continued): Display Final Cleaned Data and Scatter Plot\n",
    "\n",
    "After ensuring that both `Rank` and `Win_Rate` are numeric and free from missing or zero values, we display:\n",
    "\n",
    "- A scatter plot to visualize the relationship between world ranking and win rate.\n",
    "- The first few rows of the final cleaned dataset used for the analysis.\n",
    "\n",
    "This step helps verify data integrity and validate trends through visualization.\n"
   ]
  },
  {
   "cell_type": "code",
   "execution_count": 187,
   "id": "d4c74893-a28d-4745-8dec-e8fbf1838170",
   "metadata": {},
   "outputs": [
    {
     "data": {
      "image/png": "[encoded data removed]",
      "text/plain": [
       "<Figure size 640x480 with 1 Axes>"
      ]
     },
     "metadata": {},
     "output_type": "display_data"
    },
    {
     "name": "stdout",
     "output_type": "stream",
     "text": [
      " Number of rows in merged_df:： 77\n"
     ]
    },
    {
     "data": {
      "text/html": [
       "<div>\n",
       "<style scoped>\n",
       "    .dataframe tbody tr th:only-of-type {\n",
       "        vertical-align: middle;\n",
       "    }\n",
       "\n",
       "    .dataframe tbody tr th {\n",
       "        vertical-align: top;\n",
       "    }\n",
       "\n",
       "    .dataframe thead th {\n",
       "        text-align: right;\n",
       "    }\n",
       "</style>\n",
       "<table border=\"1\" class=\"dataframe\">\n",
       "  <thead>\n",
       "    <tr style=\"text-align: right;\">\n",
       "      <th></th>\n",
       "      <th>Rank</th>\n",
       "      <th>Points</th>\n",
       "      <th>Tournaments</th>\n",
       "      <th>Name</th>\n",
       "      <th>Nationality</th>\n",
       "      <th>Win_Rate</th>\n",
       "    </tr>\n",
       "  </thead>\n",
       "  <tbody>\n",
       "    <tr>\n",
       "      <th>0</th>\n",
       "      <td>1</td>\n",
       "      <td>98715</td>\n",
       "      <td>14</td>\n",
       "      <td>Axelsen Viktor</td>\n",
       "      <td>denmark</td>\n",
       "      <td>53.830334</td>\n",
       "    </tr>\n",
       "    <tr>\n",
       "      <th>1</th>\n",
       "      <td>4</td>\n",
       "      <td>83594</td>\n",
       "      <td>19</td>\n",
       "      <td>Antonsen Anders</td>\n",
       "      <td>denmark</td>\n",
       "      <td>53.830334</td>\n",
       "    </tr>\n",
       "    <tr>\n",
       "      <th>2</th>\n",
       "      <td>28</td>\n",
       "      <td>47779</td>\n",
       "      <td>17</td>\n",
       "      <td>Gemke Rasmus</td>\n",
       "      <td>denmark</td>\n",
       "      <td>53.830334</td>\n",
       "    </tr>\n",
       "    <tr>\n",
       "      <th>3</th>\n",
       "      <td>35</td>\n",
       "      <td>39910</td>\n",
       "      <td>22</td>\n",
       "      <td>Johannesen Magnus</td>\n",
       "      <td>denmark</td>\n",
       "      <td>53.830334</td>\n",
       "    </tr>\n",
       "    <tr>\n",
       "      <th>4</th>\n",
       "      <td>53</td>\n",
       "      <td>32423</td>\n",
       "      <td>18</td>\n",
       "      <td>Christophersen Mads</td>\n",
       "      <td>denmark</td>\n",
       "      <td>53.830334</td>\n",
       "    </tr>\n",
       "  </tbody>\n",
       "</table>\n",
       "</div>"
      ],
      "text/plain": [
       "   Rank  Points  Tournaments                 Name Nationality   Win_Rate\n",
       "0     1   98715           14       Axelsen Viktor     denmark  53.830334\n",
       "1     4   83594           19      Antonsen Anders     denmark  53.830334\n",
       "2    28   47779           17         Gemke Rasmus     denmark  53.830334\n",
       "3    35   39910           22    Johannesen Magnus     denmark  53.830334\n",
       "4    53   32423           18  Christophersen Mads     denmark  53.830334"
      ]
     },
     "metadata": {},
     "output_type": "display_data"
    }
   ],
   "source": [
    "# Scatter plot to visualize the relationship\n",
    "import matplotlib.pyplot as plt\n",
    "\n",
    "plt.scatter(merged_df['Rank'], merged_df['Win_Rate'])\n",
    "plt.xlabel('Rank')\n",
    "plt.ylabel('Win Rate (%)')\n",
    "plt.title('Relationship between Rank and Win Rate')\n",
    "plt.grid()\n",
    "plt.show()\n",
    "\n",
    "print(\" Number of rows in merged_df:：\", len(merged_df))\n",
    "display(merged_df.head())\n"
   ]
  },
  {
   "cell_type": "code",
   "execution_count": 188,
   "id": "891c1f8c-509c-46f7-9b88-3ab6c511851e",
   "metadata": {},
   "outputs": [],
   "source": [
    "# Save the cleaned and merged dataset\n",
    "merged_df.to_csv('cleaned_badminton_data.csv', index=False)\n",
    "\n"
   ]
  },
  {
   "cell_type": "markdown",
   "id": "385c2cdd-7219-40a7-a2d6-9ff781f8e97a",
   "metadata": {},
   "source": [
    "## Step 11: Preview Final Dataset\n",
    "\n",
    "We display the number of rows, columns, and a few sample records in the final cleaned and merged dataset.\n"
   ]
  },
  {
   "cell_type": "code",
   "execution_count": 126,
   "id": "870db6d3-5f8b-43ea-a009-b29a6f5422db",
   "metadata": {},
   "outputs": [
    {
     "name": "stdout",
     "output_type": "stream",
     "text": [
      "Number of rows in merged_df: 0\n",
      "Number of columns in merged_df: 6\n",
      "Sample rows from merged_df:\n"
     ]
    },
    {
     "data": {
      "text/html": [
       "<div>\n",
       "<style scoped>\n",
       "    .dataframe tbody tr th:only-of-type {\n",
       "        vertical-align: middle;\n",
       "    }\n",
       "\n",
       "    .dataframe tbody tr th {\n",
       "        vertical-align: top;\n",
       "    }\n",
       "\n",
       "    .dataframe thead th {\n",
       "        text-align: right;\n",
       "    }\n",
       "</style>\n",
       "<table border=\"1\" class=\"dataframe\">\n",
       "  <thead>\n",
       "    <tr style=\"text-align: right;\">\n",
       "      <th></th>\n",
       "      <th>Rank</th>\n",
       "      <th>Points</th>\n",
       "      <th>Tournaments</th>\n",
       "      <th>Name</th>\n",
       "      <th>Nationality</th>\n",
       "      <th>Win_Rate</th>\n",
       "    </tr>\n",
       "  </thead>\n",
       "  <tbody>\n",
       "  </tbody>\n",
       "</table>\n",
       "</div>"
      ],
      "text/plain": [
       "Empty DataFrame\n",
       "Columns: [Rank, Points, Tournaments, Name, Nationality, Win_Rate]\n",
       "Index: []"
      ]
     },
     "metadata": {},
     "output_type": "display_data"
    }
   ],
   "source": [
    "print(\"Number of rows in merged_df:\", merged_df.shape[0])\n",
    "print(\"Number of columns in merged_df:\", merged_df.shape[1])\n",
    "print(\"Sample rows from merged_df:\")\n",
    "display(merged_df.head())\n"
   ]
  },
  {
   "cell_type": "markdown",
   "id": "8158efc2-ce6b-40f6-b65a-3f4d4c8fc61f",
   "metadata": {},
   "source": [
    "## Step 12: Check Nationality Inconsistencies\n",
    "\n",
    "We compare the unique values of the `Nationality` column in both datasets to identify any formatting or spelling inconsistencies that may affect the merge.\n"
   ]
  },
  {
   "cell_type": "code",
   "execution_count": 128,
   "id": "cd009b56-e521-473d-9708-b0658c47e483",
   "metadata": {},
   "outputs": [
    {
     "name": "stdout",
     "output_type": "stream",
     "text": [
      "Unique Nationalities in flashscore_df:\n",
      "['Denmark' 'China' 'Indonesia' 'Japan' 'Thailand' 'India' 'Singapore'\n",
      " 'Malaysia' 'Hong Kong' 'Taiwan' 'France' 'Canada' 'Guatemala' 'Belgium'\n",
      " 'Ireland' 'Brazil' 'Netherlands' 'South Korea' 'Israel' 'Czech Republic'\n",
      " 'El Salvador' 'Finland' 'Azerbaijan' 'Spain' 'Kazakhstan' 'Italy'\n",
      " 'Ukraine' 'Sri Lanka' 'Mexico' 'USA' 'Vietnam' 'Germany' 'Norway'\n",
      " 'Austria' 'Nigeria' 'England']\n",
      "\n",
      "Unique Nationalities in win_rate_df:\n",
      "['australia' 'austria' 'belgium' 'brazil' 'bulgaria' 'canada' 'china'\n",
      " 'chinesetaipei' 'czechrepublic' 'denmark' 'egypt' 'england' 'estonia'\n",
      " 'finland' 'france' 'germany' 'hongkong' 'india' 'indonesia' 'ireland'\n",
      " 'israel' 'italy' 'japan' 'korea' 'malaysia' 'mauritius' 'mexico'\n",
      " 'netherlands' 'newcaledonia' 'newzealand' 'pakistan' 'philippines'\n",
      " 'poland' 'russia' 'scotland' 'singapore' 'spain' 'sweden' 'switzerland'\n",
      " 'thailand' 'ukraine' 'usa' 'vietnam']\n"
     ]
    }
   ],
   "source": [
    "print(\"Unique Nationalities in flashscore_df:\")\n",
    "print(flashscore_df['Nationality'].unique())\n",
    "\n",
    "print(\"\\nUnique Nationalities in win_rate_df:\")\n",
    "print(win_rate_df['Nationality'].unique())\n"
   ]
  },
  {
   "cell_type": "markdown",
   "id": "d977b589-c7ab-4efb-bb7a-520a973af734",
   "metadata": {},
   "source": [
    "## Step 13: Standardize Nationality Values\n",
    "\n",
    "To ensure successful merging, we remove leading/trailing spaces and convert all country names to lowercase.\n"
   ]
  },
  {
   "cell_type": "code",
   "execution_count": 130,
   "id": "973d6bfc-b622-4c51-9181-ad461b5196cc",
   "metadata": {},
   "outputs": [
    {
     "name": "stdout",
     "output_type": "stream",
     "text": [
      "After Standardization - Unique Nationalities in flashscore_df:\n",
      "['denmark' 'china' 'indonesia' 'japan' 'thailand' 'india' 'singapore'\n",
      " 'malaysia' 'hong kong' 'taiwan' 'france' 'canada' 'guatemala' 'belgium'\n",
      " 'ireland' 'brazil' 'netherlands' 'south korea' 'israel' 'czech republic'\n",
      " 'el salvador' 'finland' 'azerbaijan' 'spain' 'kazakhstan' 'italy'\n",
      " 'ukraine' 'sri lanka' 'mexico' 'usa' 'vietnam' 'germany' 'norway'\n",
      " 'austria' 'nigeria' 'england']\n",
      "\n",
      "After Standardization - Unique Nationalities in win_rate_df:\n",
      "['australia' 'austria' 'belgium' 'brazil' 'bulgaria' 'canada' 'china'\n",
      " 'chinesetaipei' 'czechrepublic' 'denmark' 'egypt' 'england' 'estonia'\n",
      " 'finland' 'france' 'germany' 'hongkong' 'india' 'indonesia' 'ireland'\n",
      " 'israel' 'italy' 'japan' 'korea' 'malaysia' 'mauritius' 'mexico'\n",
      " 'netherlands' 'newcaledonia' 'newzealand' 'pakistan' 'philippines'\n",
      " 'poland' 'russia' 'scotland' 'singapore' 'spain' 'sweden' 'switzerland'\n",
      " 'thailand' 'ukraine' 'usa' 'vietnam']\n"
     ]
    }
   ],
   "source": [
    "# Remove leading/trailing spaces and convert to lowercase\n",
    "flashscore_df['Nationality'] = flashscore_df['Nationality'].str.strip().str.lower()\n",
    "win_rate_df['Nationality'] = win_rate_df['Nationality'].str.strip().str.lower()\n",
    "\n",
    "# Display unique values again to confirm\n",
    "print(\"After Standardization - Unique Nationalities in flashscore_df:\")\n",
    "print(flashscore_df['Nationality'].unique())\n",
    "\n",
    "print(\"\\nAfter Standardization - Unique Nationalities in win_rate_df:\")\n",
    "print(win_rate_df['Nationality'].unique())\n"
   ]
  },
  {
   "cell_type": "markdown",
   "id": "9a057787-8bab-45bb-abb4-a85a0ae78dda",
   "metadata": {},
   "source": [
    "## Step 14: Re-Merge After Standardization\n",
    "\n",
    "After ensuring consistent formatting of the `Nationality` column, we perform the merge again to maximize matches between the two datasets.\n"
   ]
  },
  {
   "cell_type": "code",
   "execution_count": 132,
   "id": "10c8faf3-5bf4-487d-8842-3e7460ef371e",
   "metadata": {},
   "outputs": [
    {
     "name": "stdout",
     "output_type": "stream",
     "text": [
      "Number of rows in merged_df after re-merge: 77\n"
     ]
    },
    {
     "data": {
      "text/html": [
       "<div>\n",
       "<style scoped>\n",
       "    .dataframe tbody tr th:only-of-type {\n",
       "        vertical-align: middle;\n",
       "    }\n",
       "\n",
       "    .dataframe tbody tr th {\n",
       "        vertical-align: top;\n",
       "    }\n",
       "\n",
       "    .dataframe thead th {\n",
       "        text-align: right;\n",
       "    }\n",
       "</style>\n",
       "<table border=\"1\" class=\"dataframe\">\n",
       "  <thead>\n",
       "    <tr style=\"text-align: right;\">\n",
       "      <th></th>\n",
       "      <th>Rank</th>\n",
       "      <th>Points</th>\n",
       "      <th>Tournaments</th>\n",
       "      <th>Name</th>\n",
       "      <th>Nationality</th>\n",
       "      <th>Win_Rate</th>\n",
       "    </tr>\n",
       "  </thead>\n",
       "  <tbody>\n",
       "    <tr>\n",
       "      <th>0</th>\n",
       "      <td>1</td>\n",
       "      <td>98715</td>\n",
       "      <td>14</td>\n",
       "      <td>Axelsen Viktor</td>\n",
       "      <td>denmark</td>\n",
       "      <td>53.830334</td>\n",
       "    </tr>\n",
       "    <tr>\n",
       "      <th>1</th>\n",
       "      <td>4</td>\n",
       "      <td>83594</td>\n",
       "      <td>19</td>\n",
       "      <td>Antonsen Anders</td>\n",
       "      <td>denmark</td>\n",
       "      <td>53.830334</td>\n",
       "    </tr>\n",
       "    <tr>\n",
       "      <th>2</th>\n",
       "      <td>28</td>\n",
       "      <td>47779</td>\n",
       "      <td>17</td>\n",
       "      <td>Gemke Rasmus</td>\n",
       "      <td>denmark</td>\n",
       "      <td>53.830334</td>\n",
       "    </tr>\n",
       "    <tr>\n",
       "      <th>3</th>\n",
       "      <td>35</td>\n",
       "      <td>39910</td>\n",
       "      <td>22</td>\n",
       "      <td>Johannesen Magnus</td>\n",
       "      <td>denmark</td>\n",
       "      <td>53.830334</td>\n",
       "    </tr>\n",
       "    <tr>\n",
       "      <th>4</th>\n",
       "      <td>53</td>\n",
       "      <td>32423</td>\n",
       "      <td>18</td>\n",
       "      <td>Christophersen Mads</td>\n",
       "      <td>denmark</td>\n",
       "      <td>53.830334</td>\n",
       "    </tr>\n",
       "  </tbody>\n",
       "</table>\n",
       "</div>"
      ],
      "text/plain": [
       "   Rank  Points  Tournaments                 Name Nationality   Win_Rate\n",
       "0     1   98715           14       Axelsen Viktor     denmark  53.830334\n",
       "1     4   83594           19      Antonsen Anders     denmark  53.830334\n",
       "2    28   47779           17         Gemke Rasmus     denmark  53.830334\n",
       "3    35   39910           22    Johannesen Magnus     denmark  53.830334\n",
       "4    53   32423           18  Christophersen Mads     denmark  53.830334"
      ]
     },
     "metadata": {},
     "output_type": "display_data"
    },
    {
     "name": "stdout",
     "output_type": "stream",
     "text": [
      "Rows before merge: 100, after merge: 77\n"
     ]
    }
   ],
   "source": [
    "# Re-merge datasets\n",
    "merged_df = pd.merge(flashscore_df, win_rate_df, on='Nationality', how='inner')\n",
    "print(\"Number of rows in merged_df after re-merge:\", merged_df.shape[0])\n",
    "display(merged_df.head())\n",
    "\n",
    "print(f\"Rows before merge: {len(flashscore_df)}, after merge: {len(merged_df)}\")\n"
   ]
  },
  {
   "cell_type": "markdown",
   "id": "f8472235-b5cb-4c8c-b0f5-e3b7ef6c1244",
   "metadata": {},
   "source": [
    "### Step 15: Identify Merge Issues\n",
    "\n",
    "After re-merging the datasets, we check which nationalities were not successfully matched between the two datasets.\n",
    "This helps identify data quality issues such as naming inconsistencies, uncommon country entries, or missing values.\n",
    "\n",
    "- The first list shows countries in `flashscore_df` that are **not present** in the win rate data.\n",
    "- The second list shows countries in `win_rate_df` that are **not found** in the top 100 player rankings.\n",
    "\n",
    "After checking unmatched nationalities, we see common discrepancies due to naming (e.g., 'Hong Kong' vs 'hongkong', 'Taiwan' not appearing in win_rate_df, etc.). These can be addressed by external mapping if necessary."
   ]
  },
  {
   "cell_type": "code",
   "execution_count": 134,
   "id": "9af4a054-a02e-4555-aabb-81a2aa7a7d2c",
   "metadata": {},
   "outputs": [
    {
     "name": "stdout",
     "output_type": "stream",
     "text": [
      "Unmatched Nationalities from flashscore_df:\n"
     ]
    },
    {
     "data": {
      "text/html": [
       "<div>\n",
       "<style scoped>\n",
       "    .dataframe tbody tr th:only-of-type {\n",
       "        vertical-align: middle;\n",
       "    }\n",
       "\n",
       "    .dataframe tbody tr th {\n",
       "        vertical-align: top;\n",
       "    }\n",
       "\n",
       "    .dataframe thead th {\n",
       "        text-align: right;\n",
       "    }\n",
       "</style>\n",
       "<table border=\"1\" class=\"dataframe\">\n",
       "  <thead>\n",
       "    <tr style=\"text-align: right;\">\n",
       "      <th></th>\n",
       "      <th>Rank</th>\n",
       "      <th>Points</th>\n",
       "      <th>Tournaments</th>\n",
       "      <th>Name</th>\n",
       "      <th>Nationality</th>\n",
       "    </tr>\n",
       "  </thead>\n",
       "  <tbody>\n",
       "    <tr>\n",
       "      <th>13</th>\n",
       "      <td>14</td>\n",
       "      <td>63499</td>\n",
       "      <td>27</td>\n",
       "      <td>Lee Cheuk Yiu</td>\n",
       "      <td>hong kong</td>\n",
       "    </tr>\n",
       "    <tr>\n",
       "      <th>14</th>\n",
       "      <td>15</td>\n",
       "      <td>62498</td>\n",
       "      <td>31</td>\n",
       "      <td>Chou Tien Chen</td>\n",
       "      <td>taiwan</td>\n",
       "    </tr>\n",
       "    <tr>\n",
       "      <th>18</th>\n",
       "      <td>19</td>\n",
       "      <td>57286</td>\n",
       "      <td>30</td>\n",
       "      <td>Lin Chun-Yi</td>\n",
       "      <td>taiwan</td>\n",
       "    </tr>\n",
       "    <tr>\n",
       "      <th>23</th>\n",
       "      <td>24</td>\n",
       "      <td>52710</td>\n",
       "      <td>29</td>\n",
       "      <td>Wang Tzu Wei</td>\n",
       "      <td>taiwan</td>\n",
       "    </tr>\n",
       "    <tr>\n",
       "      <th>25</th>\n",
       "      <td>26</td>\n",
       "      <td>49856</td>\n",
       "      <td>26</td>\n",
       "      <td>Ng Ka Long Angus</td>\n",
       "      <td>hong kong</td>\n",
       "    </tr>\n",
       "    <tr>\n",
       "      <th>29</th>\n",
       "      <td>30</td>\n",
       "      <td>44480</td>\n",
       "      <td>24</td>\n",
       "      <td>Su Li Yang</td>\n",
       "      <td>taiwan</td>\n",
       "    </tr>\n",
       "    <tr>\n",
       "      <th>33</th>\n",
       "      <td>34</td>\n",
       "      <td>40138</td>\n",
       "      <td>28</td>\n",
       "      <td>Lee Chia Hao</td>\n",
       "      <td>taiwan</td>\n",
       "    </tr>\n",
       "    <tr>\n",
       "      <th>37</th>\n",
       "      <td>38</td>\n",
       "      <td>37616</td>\n",
       "      <td>21</td>\n",
       "      <td>Chi Yu Jen</td>\n",
       "      <td>taiwan</td>\n",
       "    </tr>\n",
       "    <tr>\n",
       "      <th>38</th>\n",
       "      <td>39</td>\n",
       "      <td>35776</td>\n",
       "      <td>15</td>\n",
       "      <td>Cordon Kevin</td>\n",
       "      <td>guatemala</td>\n",
       "    </tr>\n",
       "    <tr>\n",
       "      <th>48</th>\n",
       "      <td>49</td>\n",
       "      <td>33309</td>\n",
       "      <td>21</td>\n",
       "      <td>Jeon Hyeok Jin</td>\n",
       "      <td>south korea</td>\n",
       "    </tr>\n",
       "    <tr>\n",
       "      <th>53</th>\n",
       "      <td>54</td>\n",
       "      <td>31410</td>\n",
       "      <td>19</td>\n",
       "      <td>Louda Jan</td>\n",
       "      <td>czech republic</td>\n",
       "    </tr>\n",
       "    <tr>\n",
       "      <th>55</th>\n",
       "      <td>56</td>\n",
       "      <td>31059</td>\n",
       "      <td>16</td>\n",
       "      <td>Canjura Artiga Uriel Francisco</td>\n",
       "      <td>el salvador</td>\n",
       "    </tr>\n",
       "    <tr>\n",
       "      <th>58</th>\n",
       "      <td>59</td>\n",
       "      <td>28800</td>\n",
       "      <td>20</td>\n",
       "      <td>Huang Yu Kai</td>\n",
       "      <td>taiwan</td>\n",
       "    </tr>\n",
       "    <tr>\n",
       "      <th>62</th>\n",
       "      <td>63</td>\n",
       "      <td>27149</td>\n",
       "      <td>23</td>\n",
       "      <td>Dwicahyo Ade Resky</td>\n",
       "      <td>azerbaijan</td>\n",
       "    </tr>\n",
       "    <tr>\n",
       "      <th>67</th>\n",
       "      <td>68</td>\n",
       "      <td>24475</td>\n",
       "      <td>26</td>\n",
       "      <td>Panarin Dmitriy</td>\n",
       "      <td>kazakhstan</td>\n",
       "    </tr>\n",
       "    <tr>\n",
       "      <th>70</th>\n",
       "      <td>71</td>\n",
       "      <td>23290</td>\n",
       "      <td>13</td>\n",
       "      <td>Wang Po-Wei</td>\n",
       "      <td>taiwan</td>\n",
       "    </tr>\n",
       "    <tr>\n",
       "      <th>72</th>\n",
       "      <td>73</td>\n",
       "      <td>23200</td>\n",
       "      <td>22</td>\n",
       "      <td>Nettasinghe Viren</td>\n",
       "      <td>sri lanka</td>\n",
       "    </tr>\n",
       "    <tr>\n",
       "      <th>76</th>\n",
       "      <td>77</td>\n",
       "      <td>22363</td>\n",
       "      <td>18</td>\n",
       "      <td>Liao Jhuo-Fu</td>\n",
       "      <td>taiwan</td>\n",
       "    </tr>\n",
       "    <tr>\n",
       "      <th>88</th>\n",
       "      <td>89</td>\n",
       "      <td>19539</td>\n",
       "      <td>11</td>\n",
       "      <td>Chan Yin Chak</td>\n",
       "      <td>hong kong</td>\n",
       "    </tr>\n",
       "    <tr>\n",
       "      <th>89</th>\n",
       "      <td>90</td>\n",
       "      <td>19530</td>\n",
       "      <td>19</td>\n",
       "      <td>Kuo Kuan Lin</td>\n",
       "      <td>taiwan</td>\n",
       "    </tr>\n",
       "    <tr>\n",
       "      <th>90</th>\n",
       "      <td>91</td>\n",
       "      <td>19352</td>\n",
       "      <td>26</td>\n",
       "      <td>Barth Markus</td>\n",
       "      <td>norway</td>\n",
       "    </tr>\n",
       "    <tr>\n",
       "      <th>91</th>\n",
       "      <td>92</td>\n",
       "      <td>19167</td>\n",
       "      <td>12</td>\n",
       "      <td>Gunawan Jason</td>\n",
       "      <td>hong kong</td>\n",
       "    </tr>\n",
       "    <tr>\n",
       "      <th>94</th>\n",
       "      <td>95</td>\n",
       "      <td>18848</td>\n",
       "      <td>14</td>\n",
       "      <td>Opeyori Anuoluwapo Juwon</td>\n",
       "      <td>nigeria</td>\n",
       "    </tr>\n",
       "  </tbody>\n",
       "</table>\n",
       "</div>"
      ],
      "text/plain": [
       "    Rank  Points  Tournaments                            Name     Nationality\n",
       "13    14   63499           27                   Lee Cheuk Yiu       hong kong\n",
       "14    15   62498           31                  Chou Tien Chen          taiwan\n",
       "18    19   57286           30                     Lin Chun-Yi          taiwan\n",
       "23    24   52710           29                    Wang Tzu Wei          taiwan\n",
       "25    26   49856           26                Ng Ka Long Angus       hong kong\n",
       "29    30   44480           24                      Su Li Yang          taiwan\n",
       "33    34   40138           28                    Lee Chia Hao          taiwan\n",
       "37    38   37616           21                      Chi Yu Jen          taiwan\n",
       "38    39   35776           15                    Cordon Kevin       guatemala\n",
       "48    49   33309           21                  Jeon Hyeok Jin     south korea\n",
       "53    54   31410           19                       Louda Jan  czech republic\n",
       "55    56   31059           16  Canjura Artiga Uriel Francisco     el salvador\n",
       "58    59   28800           20                    Huang Yu Kai          taiwan\n",
       "62    63   27149           23              Dwicahyo Ade Resky      azerbaijan\n",
       "67    68   24475           26                 Panarin Dmitriy      kazakhstan\n",
       "70    71   23290           13                     Wang Po-Wei          taiwan\n",
       "72    73   23200           22               Nettasinghe Viren       sri lanka\n",
       "76    77   22363           18                    Liao Jhuo-Fu          taiwan\n",
       "88    89   19539           11                   Chan Yin Chak       hong kong\n",
       "89    90   19530           19                    Kuo Kuan Lin          taiwan\n",
       "90    91   19352           26                    Barth Markus          norway\n",
       "91    92   19167           12                   Gunawan Jason       hong kong\n",
       "94    95   18848           14        Opeyori Anuoluwapo Juwon         nigeria"
      ]
     },
     "metadata": {},
     "output_type": "display_data"
    },
    {
     "name": "stdout",
     "output_type": "stream",
     "text": [
      "\n",
      "Unmatched Nationalities from win_rate_df:\n"
     ]
    },
    {
     "data": {
      "text/html": [
       "<div>\n",
       "<style scoped>\n",
       "    .dataframe tbody tr th:only-of-type {\n",
       "        vertical-align: middle;\n",
       "    }\n",
       "\n",
       "    .dataframe tbody tr th {\n",
       "        vertical-align: top;\n",
       "    }\n",
       "\n",
       "    .dataframe thead th {\n",
       "        text-align: right;\n",
       "    }\n",
       "</style>\n",
       "<table border=\"1\" class=\"dataframe\">\n",
       "  <thead>\n",
       "    <tr style=\"text-align: right;\">\n",
       "      <th></th>\n",
       "      <th>Nationality</th>\n",
       "      <th>Win_Rate</th>\n",
       "    </tr>\n",
       "  </thead>\n",
       "  <tbody>\n",
       "    <tr>\n",
       "      <th>0</th>\n",
       "      <td>australia</td>\n",
       "      <td>20.312500</td>\n",
       "    </tr>\n",
       "    <tr>\n",
       "      <th>4</th>\n",
       "      <td>bulgaria</td>\n",
       "      <td>33.333333</td>\n",
       "    </tr>\n",
       "    <tr>\n",
       "      <th>7</th>\n",
       "      <td>chinesetaipei</td>\n",
       "      <td>40.346683</td>\n",
       "    </tr>\n",
       "    <tr>\n",
       "      <th>8</th>\n",
       "      <td>czechrepublic</td>\n",
       "      <td>0.000000</td>\n",
       "    </tr>\n",
       "    <tr>\n",
       "      <th>10</th>\n",
       "      <td>egypt</td>\n",
       "      <td>0.000000</td>\n",
       "    </tr>\n",
       "    <tr>\n",
       "      <th>12</th>\n",
       "      <td>estonia</td>\n",
       "      <td>0.000000</td>\n",
       "    </tr>\n",
       "    <tr>\n",
       "      <th>16</th>\n",
       "      <td>hongkong</td>\n",
       "      <td>41.501294</td>\n",
       "    </tr>\n",
       "    <tr>\n",
       "      <th>23</th>\n",
       "      <td>korea</td>\n",
       "      <td>54.217791</td>\n",
       "    </tr>\n",
       "    <tr>\n",
       "      <th>25</th>\n",
       "      <td>mauritius</td>\n",
       "      <td>0.000000</td>\n",
       "    </tr>\n",
       "    <tr>\n",
       "      <th>28</th>\n",
       "      <td>newcaledonia</td>\n",
       "      <td>0.000000</td>\n",
       "    </tr>\n",
       "    <tr>\n",
       "      <th>29</th>\n",
       "      <td>newzealand</td>\n",
       "      <td>0.000000</td>\n",
       "    </tr>\n",
       "    <tr>\n",
       "      <th>30</th>\n",
       "      <td>pakistan</td>\n",
       "      <td>28.571429</td>\n",
       "    </tr>\n",
       "    <tr>\n",
       "      <th>31</th>\n",
       "      <td>philippines</td>\n",
       "      <td>0.000000</td>\n",
       "    </tr>\n",
       "    <tr>\n",
       "      <th>32</th>\n",
       "      <td>poland</td>\n",
       "      <td>31.578947</td>\n",
       "    </tr>\n",
       "    <tr>\n",
       "      <th>33</th>\n",
       "      <td>russia</td>\n",
       "      <td>37.387387</td>\n",
       "    </tr>\n",
       "    <tr>\n",
       "      <th>34</th>\n",
       "      <td>scotland</td>\n",
       "      <td>28.260870</td>\n",
       "    </tr>\n",
       "    <tr>\n",
       "      <th>37</th>\n",
       "      <td>sweden</td>\n",
       "      <td>0.000000</td>\n",
       "    </tr>\n",
       "    <tr>\n",
       "      <th>38</th>\n",
       "      <td>switzerland</td>\n",
       "      <td>26.666667</td>\n",
       "    </tr>\n",
       "  </tbody>\n",
       "</table>\n",
       "</div>"
      ],
      "text/plain": [
       "      Nationality   Win_Rate\n",
       "0       australia  20.312500\n",
       "4        bulgaria  33.333333\n",
       "7   chinesetaipei  40.346683\n",
       "8   czechrepublic   0.000000\n",
       "10          egypt   0.000000\n",
       "12        estonia   0.000000\n",
       "16       hongkong  41.501294\n",
       "23          korea  54.217791\n",
       "25      mauritius   0.000000\n",
       "28   newcaledonia   0.000000\n",
       "29     newzealand   0.000000\n",
       "30       pakistan  28.571429\n",
       "31    philippines   0.000000\n",
       "32         poland  31.578947\n",
       "33         russia  37.387387\n",
       "34       scotland  28.260870\n",
       "37         sweden   0.000000\n",
       "38    switzerland  26.666667"
      ]
     },
     "metadata": {},
     "output_type": "display_data"
    }
   ],
   "source": [
    "# Nationalities in flashscore_df but not in win_rate_df\n",
    "unmatched_nationalities = flashscore_df[~flashscore_df['Nationality'].isin(win_rate_df['Nationality'])]\n",
    "print(\"Unmatched Nationalities from flashscore_df:\")\n",
    "display(unmatched_nationalities)\n",
    "\n",
    "# Nationalities in win_rate_df but not in flashscore_df\n",
    "unmatched_nationalities_2 = win_rate_df[~win_rate_df['Nationality'].isin(flashscore_df['Nationality'])]\n",
    "print(\"\\nUnmatched Nationalities from win_rate_df:\")\n",
    "display(unmatched_nationalities_2)\n"
   ]
  },
  {
   "cell_type": "markdown",
   "id": "7d72d27d-da3c-481f-a6bf-7168df435723",
   "metadata": {},
   "source": [
    "## Step 16: Final Correlation Analysis\n",
    "\n",
    "After cleaning, standardizing, and re-merging both datasets, we perform a final correlation analysis  \n",
    "between players' world rankings and their average win rates.\n",
    "\n",
    "This step helps us:\n",
    "- Confirm whether a statistically meaningful relationship exists between rank and performance\n",
    "- Understand the impact of previous data cleaning steps on our analytical results\n",
    "\n",
    "We use the Pearson correlation coefficient, which measures the linear relationship between the two variables. Since r = -0.33, this indicates a moderate negative correlation between player rank and win rate.\n"
   ]
  },
  {
   "cell_type": "code",
   "execution_count": 136,
   "id": "652324f2-ef35-41ad-a8d8-e8e35229e71c",
   "metadata": {},
   "outputs": [
    {
     "name": "stdout",
     "output_type": "stream",
     "text": [
      "Correlation between Rank and Win Rate:\n",
      "              Rank  Win_Rate\n",
      "Rank      1.000000 -0.332252\n",
      "Win_Rate -0.332252  1.000000\n"
     ]
    }
   ],
   "source": [
    "# Recalculate correlation\n",
    "correlation = merged_df[['Rank', 'Win_Rate']].corr()\n",
    "print(\"Correlation between Rank and Win Rate:\")\n",
    "print(correlation)\n"
   ]
  },
  {
   "cell_type": "markdown",
   "id": "18148342-4fc9-419a-9ff3-43e449ba529d",
   "metadata": {},
   "source": [
    "### Step 17: Regression Analysis - Rank vs. Win Rate\n",
    "\n",
    "We use a regression plot to examine the linear relationship between player world ranking and win rate. The plot below shows a negative slope, suggesting that players with higher world rankings (i.e., lower rank values) generally tend to have higher win rates.\n"
   ]
  },
  {
   "cell_type": "code",
   "execution_count": 139,
   "id": "d1479ee4-2345-4054-bb28-684f4ff49157",
   "metadata": {},
   "outputs": [
    {
     "data": {
      "image/png": "[encoded data removed]",
      "text/plain": [
       "<Figure size 640x480 with 1 Axes>"
      ]
     },
     "metadata": {},
     "output_type": "display_data"
    }
   ],
   "source": [
    "import numpy as np\n",
    "\n",
    "# Fit a linear regression line\n",
    "m, b = np.polyfit(merged_df['Rank'], merged_df['Win_Rate'], 1)\n",
    "plt.scatter(merged_df['Rank'], merged_df['Win_Rate'])\n",
    "plt.plot(merged_df['Rank'], m * merged_df['Rank'] + b, color='red')\n",
    "plt.xlabel('Rank')\n",
    "plt.ylabel('Win Rate (%)')\n",
    "plt.title('Relationship between Rank and Win Rate (with Regression Line)')\n",
    "plt.grid()\n",
    "plt.show()\n"
   ]
  },
  {
   "cell_type": "markdown",
   "id": "3d03c86b-def0-4db0-b721-f1baf49e4847",
   "metadata": {},
   "source": [
    "### Step 18: Distribution of Win Rate\n",
    "\n",
    "To understand the overall distribution of player win rates, we create a histogram. Most players fall between 30% and 50%, with a notable peak around 50%. A small group has very low win rates, close to 0%. This histogram shows a right-skewed distribution, with most players winning around 40–50%.\n",
    "\n"
   ]
  },
  {
   "cell_type": "code",
   "execution_count": 146,
   "id": "badd923a-3c3c-4e02-ac78-fbee0a37c8fe",
   "metadata": {},
   "outputs": [
    {
     "data": {
      "image/png": "[encoded data removed]",
      "text/plain": [
       "<Figure size 640x480 with 1 Axes>"
      ]
     },
     "metadata": {},
     "output_type": "display_data"
    }
   ],
   "source": [
    "merged_df['Win_Rate'].hist(bins=20)\n",
    "plt.title('Win Rate Distribution')\n",
    "plt.xlabel('Win Rate (%)')\n",
    "plt.ylabel('Frequency')\n",
    "plt.grid()\n",
    "plt.show()\n"
   ]
  },
  {
   "cell_type": "markdown",
   "id": "32109dff-f988-459a-97aa-defcba06bde7",
   "metadata": {},
   "source": [
    "### Step 19: R-squared Evaluation\n",
    "\n",
    "We calculate the R-squared value to quantify how much of the variance in win rate can be explained by player ranking. An R-squared value of around 0.11 indicates that only 11% of the variance is accounted for by ranking, suggesting that other factors likely play a larger role in determining performance.\n",
    "A low R-squared suggests that while rank has some influence, other factors (e.g., training resources, individual skill, injuries) play a larger role in performance.\n",
    "\n",
    "\n",
    "\n"
   ]
  },
  {
   "cell_type": "code",
   "execution_count": 149,
   "id": "ebf17dfa-30fd-472b-9223-09c039fcbc88",
   "metadata": {},
   "outputs": [
    {
     "name": "stdout",
     "output_type": "stream",
     "text": [
      "R-squared: 0.11\n"
     ]
    }
   ],
   "source": [
    "import numpy as np\n",
    "\n",
    "# Calculate R-squared value\n",
    "residuals = merged_df['Win_Rate'] - (m * merged_df['Rank'] + b)\n",
    "ss_res = np.sum(residuals ** 2)\n",
    "ss_tot = np.sum((merged_df['Win_Rate'] - merged_df['Win_Rate'].mean()) ** 2)\n",
    "r_squared = 1 - (ss_res / ss_tot)\n",
    "print(f\"R-squared: {r_squared:.2f}\")\n"
   ]
  },
  {
   "cell_type": "markdown",
   "id": "a4e30c49-3cae-4c62-b4ba-07f32abf85e3",
   "metadata": {},
   "source": [
    "### Step 20: Win Rate by Nationality\n",
    "\n",
    "We visualize the distribution of win rates across different countries using a boxplot. This helps reveal which countries have consistently higher or lower win rates.\n",
    "\n",
    "- Spain, China, and Denmark top the list, indicating strong player performance.\n",
    "- These insights may inform training strategies or reveal structural advantages.\n"
   ]
  },
  {
   "cell_type": "code",
   "execution_count": 159,
   "id": "eeb8898e-d120-4a57-aa59-42588bb9cb91",
   "metadata": {},
   "outputs": [
    {
     "data": {
      "image/png": "[encoded data removed]",
      "text/plain": [
       "<Figure size 1200x600 with 1 Axes>"
      ]
     },
     "metadata": {},
     "output_type": "display_data"
    }
   ],
   "source": [
    "import seaborn as sns\n",
    "\n",
    "plt.figure(figsize=(12, 6))\n",
    "sns.boxplot(data=merged_df, x='Nationality', y='Win_Rate')\n",
    "plt.xticks(rotation=90)\n",
    "plt.title('Win Rate Distribution by Nationality')\n",
    "plt.show()\n"
   ]
  },
  {
   "cell_type": "markdown",
   "id": "279a4f32-49cc-4f2c-86de-02243be75b48",
   "metadata": {},
   "source": [
    "### Step 20（continuted）: Top 5 Nationalities by Average Win Rate\n",
    "\n",
    "We calculate the average win rate by nationality and display the top 5 countries. This provides insight into which countries tend to have the strongest overall performance in the BWF Super Series dataset.\n"
   ]
  },
  {
   "cell_type": "code",
   "execution_count": 162,
   "id": "a512c3bd-17c1-41b6-8162-77a852a87ad0",
   "metadata": {},
   "outputs": [
    {
     "name": "stdout",
     "output_type": "stream",
     "text": [
      "Top 5 Nationalities by Average Win Rate:\n",
      "Nationality\n",
      "spain      65.354331\n",
      "china      57.458687\n",
      "denmark    53.830334\n",
      "japan      51.699764\n",
      "ukraine    50.000000\n",
      "Name: Win_Rate, dtype: float64\n"
     ]
    }
   ],
   "source": [
    "avg_win_rate_by_country = merged_df.groupby('Nationality')['Win_Rate'].mean().sort_values(ascending=False).head(5)\n",
    "print(\"Top 5 Nationalities by Average Win Rate:\")\n",
    "print(avg_win_rate_by_country)\n"
   ]
  },
  {
   "cell_type": "markdown",
   "id": "c000ef40-fd96-4d21-a02e-64901d928441",
   "metadata": {},
   "source": [
    "### Step 21: Outlier Detection on Flashscore Points\n",
    "We used a boxplot visualization to identify possible outliers in the Points column of the Flashscore dataset."
   ]
  },
  {
   "cell_type": "code",
   "execution_count": 166,
   "id": "182a76cd-4363-4c11-8161-1a386f08404b",
   "metadata": {},
   "outputs": [
    {
     "data": {
      "image/png": "[encoded data removed]",
      "text/plain": [
       "<Figure size 1000x400 with 1 Axes>"
      ]
     },
     "metadata": {},
     "output_type": "display_data"
    }
   ],
   "source": [
    "# Step 21: Outlier Detection using Boxplot on Player Points\n",
    "import pandas as pd\n",
    "import matplotlib.pyplot as plt\n",
    "import seaborn as sns\n",
    "\n",
    "# Load datasets\n",
    "flashscore_df = pd.read_csv('flashscore.csv')\n",
    "bwf_ss_df = pd.read_csv('bwf-ss-gamedata-2015-2017-new.csv')\n",
    "\n",
    "plt.figure(figsize=(10, 4))\n",
    "sns.boxplot(x=flashscore_df['Points'])\n",
    "plt.title(\"Outlier Detection in Player Points\")\n",
    "plt.xlabel(\"Points\")\n",
    "plt.show()\n"
   ]
  },
  {
   "cell_type": "markdown",
   "id": "db176a6d-cd9a-4bf2-88ab-08342ca14710",
   "metadata": {},
   "source": [
    "### Step 22: Constraint Check on Match Type Format\n",
    "We validated the Type column in the BWF dataset to ensure all match types are among the expected values: MS, WS, MD, WD, and XD."
   ]
  },
  {
   "cell_type": "code",
   "execution_count": 168,
   "id": "58782e85-509f-4774-8d52-df514f8921a7",
   "metadata": {},
   "outputs": [
    {
     "name": "stdout",
     "output_type": "stream",
     "text": [
      "Invalid match types found: []\n"
     ]
    }
   ],
   "source": [
    "# Step 22: Check if match types are valid (MS, WS, MD, WD, XD)\n",
    "valid_types = {'MS', 'WS', 'MD', 'WD', 'XD'}\n",
    "invalid_types = bwf_ss_df.loc[~bwf_ss_df['Type'].isin(valid_types), 'Type'].unique()\n",
    "print(\"Invalid match types found:\", invalid_types)\n"
   ]
  },
  {
   "cell_type": "code",
   "execution_count": 170,
   "id": "c11a813d-927d-4edc-97cc-2492cf1b1d8c",
   "metadata": {},
   "outputs": [
    {
     "name": "stdout",
     "output_type": "stream",
     "text": [
      "Merged DataFrame Shape: (77, 6)\n",
      "Number of NaNs in Rank: 0\n",
      "Number of NaNs in Win_Rate: 0\n",
      "Value counts of Rank: Rank\n",
      "1     1\n",
      "25    1\n",
      "44    1\n",
      "43    1\n",
      "42    1\n",
      "     ..\n",
      "60    1\n",
      "51    1\n",
      "50    1\n",
      "31    1\n",
      "98    1\n",
      "Name: count, Length: 77, dtype: int64\n",
      "Value counts of Win_Rate: Win_Rate\n",
      "44.806517    12\n",
      "51.699764     9\n",
      "0.000000      7\n",
      "48.864089     7\n",
      "57.458687     6\n",
      "49.197356     5\n",
      "32.768362     5\n",
      "53.830334     5\n",
      "40.000000     4\n",
      "35.211268     2\n",
      "49.919225     2\n",
      "65.354331     2\n",
      "31.428571     2\n",
      "35.000000     2\n",
      "37.128713     2\n",
      "38.750000     1\n",
      "27.906977     1\n",
      "39.893617     1\n",
      "50.000000     1\n",
      "41.928251     1\n",
      "Name: count, dtype: int64\n"
     ]
    }
   ],
   "source": [
    "print(\"Merged DataFrame Shape:\", merged_df.shape)\n",
    "print(\"Number of NaNs in Rank:\", merged_df['Rank'].isna().sum())\n",
    "print(\"Number of NaNs in Win_Rate:\", merged_df['Win_Rate'].isna().sum())\n",
    "print(\"Value counts of Rank:\", merged_df['Rank'].value_counts())\n",
    "print(\"Value counts of Win_Rate:\", merged_df['Win_Rate'].value_counts())\n"
   ]
  },
  {
   "cell_type": "markdown",
   "id": "5db19f03-24a3-45ff-808c-8cd6b83f00d0",
   "metadata": {},
   "source": [
    "### Step 23: Add Trendline and Show Correlation Coefficient\n",
    "\n",
    "To better understand the relationship between player world ranking and national win rate,  \n",
    "we add a regression (trend) line and calculate the Pearson correlation coefficient.\n",
    "\n",
    "The scatter plot uses `seaborn.regplot` to display a linear trendline, and we calculate the Pearson `r` value to quantify the strength and direction of the relationship.\n",
    "\n",
    "A negative `r` suggests that higher-ranked players (with lower rank numbers) tend to have higher national win rates.\n"
   ]
  },
  {
   "cell_type": "code",
   "execution_count": 173,
   "id": "c0f83354-5257-4b4a-ae43-46e9040ed61f",
   "metadata": {},
   "outputs": [
    {
     "data": {
      "image/png": "[encoded data removed]",
      "text/plain": [
       "<Figure size 1000x600 with 1 Axes>"
      ]
     },
     "metadata": {},
     "output_type": "display_data"
    },
    {
     "name": "stdout",
     "output_type": "stream",
     "text": [
      "77\n"
     ]
    }
   ],
   "source": [
    "# Import necessary libraries\n",
    "import matplotlib.pyplot as plt\n",
    "import seaborn as sns\n",
    "from scipy.stats import pearsonr\n",
    "\n",
    "# Set seaborn style for cleaner visuals\n",
    "sns.set(style=\"whitegrid\")\n",
    "\n",
    "# Calculate Pearson correlation coefficient\n",
    "r, _ = pearsonr(merged_df['Rank'], merged_df['Win_Rate'])\n",
    "\n",
    "# Plot scatter plot with regression (trend) line\n",
    "plt.figure(figsize=(10, 6))\n",
    "sns.regplot(x='Rank', y='Win_Rate', data=merged_df)\n",
    "\n",
    "# Add labels and title with Pearson r\n",
    "plt.xlabel('Player Rank')\n",
    "plt.ylabel('Win Rate (%)')\n",
    "plt.title(f'Relationship Between Rank and Win Rate\\n(Pearson r = {r:.2f})')\n",
    "plt.grid(True)\n",
    "plt.show()\n",
    "\n",
    "print(len(merged_df)) \n"
   ]
  },
  {
   "cell_type": "markdown",
   "id": "78427e11-ec49-4bc8-94b6-aec0293a0c1e",
   "metadata": {},
   "source": [
    "### Step 24: Duplicate Detection and Handling\n",
    "\n",
    "Duplicate records can distort frequency-based calculations such as win rates or match counts. We used the `drop_duplicates()` method in pandas to detect and remove exact duplicate rows in the `bwf_ss_df` dataset. The shape before and after de-duplication is printed to verify the number of records affected.\n",
    "\n"
   ]
  },
  {
   "cell_type": "code",
   "execution_count": 178,
   "id": "af6fcccb-dc28-454f-9e09-7da0877dfa72",
   "metadata": {},
   "outputs": [
    {
     "name": "stdout",
     "output_type": "stream",
     "text": [
      "Before dropping duplicates: (11872, 6)\n",
      "After dropping duplicates: (11865, 6)\n",
      "Number of duplicates removed: 7\n"
     ]
    }
   ],
   "source": [
    "# Step 24: Check and remove duplicate records in BWF Super Series dataset\n",
    "print(\"Before dropping duplicates:\", bwf_ss_df.shape)\n",
    "bwf_ss_df = bwf_ss_df.drop_duplicates()\n",
    "print(\"After dropping duplicates:\", bwf_ss_df.shape)\n",
    "\n",
    "print(\"Number of duplicates removed:\", 11872 - 11865)\n"
   ]
  },
  {
   "cell_type": "markdown",
   "id": "caf865b8-bb85-4022-a1cf-c3e33dd4e1a0",
   "metadata": {},
   "source": [
    "### Step 25: Probabilistic Reasoning (Not Applied)\n",
    "\n",
    "Although probabilistic methods such as HoloClean or statistical imputation techniques can be effective for inferring missing or inconsistent values, they were not applied in this project. This is because the datasets used were mostly structured and did not contain significant ambiguity or sparsity requiring probabilistic inference.\n",
    "\n",
    "Instead, we prioritized manual cleaning and deterministic transformations to ensure transparency and interpretability.\n"
   ]
  },
  {
   "cell_type": "markdown",
   "id": "13c91d4f-029e-4ecb-91c0-9605cdf48b93",
   "metadata": {},
   "source": [
    "### Step 26: Data Management Overview\n",
    "\n",
    "To ensure effective data management throughout the project, we followed a consistent naming convention and relative path structure. All raw datasets were stored in a `data/` directory, and intermediate results were saved under a `processed/` folder. Final outputs, including visualizations and merged results, were organized in a `results/` folder.\n",
    "\n",
    "We also used GitHub for version control and reproducibility. The project notebook and script files are hosted at:  \n",
    "🔗 https://github.com/luzhao9/IS537_Final_Project\n",
    "\n",
    "In addition, we used Jupyter Notebook to combine code and documentation, making the workflow traceable and self-contained.\n"
   ]
  },
  {
   "cell_type": "code",
   "execution_count": null,
   "id": "c9305304-1125-4f46-9ffd-4465f41ddce1",
   "metadata": {},
   "outputs": [],
   "source": []
  },
  {
   "cell_type": "code",
   "execution_count": null,
   "id": "95881b6d-9dcf-49cc-a721-580296cbc770",
   "metadata": {},
   "outputs": [],
   "source": []
  },
  {
   "cell_type": "code",
   "execution_count": null,
   "id": "48920fe3-d264-4041-bd94-789c83d4f8de",
   "metadata": {},
   "outputs": [],
   "source": []
  }
 ],
 "metadata": {
  "kernelspec": {
   "display_name": "Python 3 (ipykernel)",
   "language": "python",
   "name": "python3"
  },
  "language_info": {
   "codemirror_mode": {
    "name": "ipython",
    "version": 3
   },
   "file_extension": ".py",
   "mimetype": "text/x-python",
   "name": "python",
   "nbconvert_exporter": "python",
   "pygments_lexer": "ipython3",
   "version": "3.11.5"
  }
 },
 "nbformat": 4,
 "nbformat_minor": 5
}
